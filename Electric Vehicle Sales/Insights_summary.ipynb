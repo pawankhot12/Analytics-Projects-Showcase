{
 "cells": [
  {
   "cell_type": "markdown",
   "id": "d3fdcdcb",
   "metadata": {},
   "source": [
    "# Step 3: Insights & Recommendations (from EDA)"
   ]
  },
  {
   "cell_type": "markdown",
   "id": "09e44dfa",
   "metadata": {},
   "source": [
    " ## 3.1 – Total EV Sales Over the Years\n",
    "\n",
    " You saw a bar plot of EV sales increasing by year.\n",
    "\n",
    "### Insight:\n",
    "\n",
    "\"EV sales in India have shown a consistent upward trend year-over-year, reflecting growing adoption of electric vehicles. The most significant jump was observed in [latest year], indicating increased consumer acceptance and possibly better incentives.\"\n",
    "\n",
    "### Possible Recommendation:\n",
    "\n",
    "\"Government and private stakeholders should focus on scaling infrastructure to match the rising demand, especially in high-growth years.\""
   ]
  },
  {
   "cell_type": "markdown",
   "id": "ae49c18a",
   "metadata": {},
   "source": [
    "## 3.2 – Top 10 States by EV Sales\n",
    " You saw which states are leading in total EV sales.\n",
    "\n",
    "### Insight:\n",
    "\n",
    "\"Uttar Pradesh, Maharashtra, and Karnataka are the top three states in total EV sales, contributing significantly more than others. These states have possibly better incentives or infrastructure.\"\n",
    "\n",
    "### Possible Recommendation:\n",
    "\n",
    "\"Other states can learn from the policies and infrastructure models of top-performing states to accelerate adoption.\""
   ]
  },
  {
   "cell_type": "markdown",
   "id": "e489be1b",
   "metadata": {},
   "source": [
    " ## 3.3 – Top Vehicle Types by EV Sales\n",
    " You saw a breakdown of which vehicle types dominate.\n",
    "\n",
    "### Insight:\n",
    "\n",
    "\"Three-wheeler passenger vehicles and two-wheelers make up the majority of EV sales, suggesting that the EV boom is being driven more by affordable transport than luxury or private cars.\"\n",
    "\n",
    "### Possible Recommendation:\n",
    "\n",
    "\"Policy support and manufacturing focus should prioritize the two- and three-wheeler segment, especially for last-mile mobility and delivery sectors.\""
   ]
  },
  {
   "cell_type": "markdown",
   "id": "7412a3fa",
   "metadata": {},
   "source": [
    "## 3.4 – Monthly Sales Trends\n",
    " You saw how EV sales change month-to-month.\n",
    "\n",
    "### Insight:\n",
    "\n",
    "\"EV sales tend to spike in the months of March and October, possibly due to year-end government targets, incentives, or festive-season purchases.\"\n",
    "\n",
    "### Possible Recommendation:\n",
    "\n",
    "\"Sales campaigns and incentives could be timed around these high-performance months to maximize impact.\""
   ]
  },
  {
   "cell_type": "markdown",
   "id": "8528472e",
   "metadata": {},
   "source": [
    " # Summary Table"
   ]
  },
  {
   "cell_type": "code",
   "execution_count": 3,
   "id": "247be696",
   "metadata": {},
   "outputs": [
    {
     "data": {
      "text/html": [
       "<div>\n",
       "<style scoped>\n",
       "    .dataframe tbody tr th:only-of-type {\n",
       "        vertical-align: middle;\n",
       "    }\n",
       "\n",
       "    .dataframe tbody tr th {\n",
       "        vertical-align: top;\n",
       "    }\n",
       "\n",
       "    .dataframe thead th {\n",
       "        text-align: right;\n",
       "    }\n",
       "</style>\n",
       "<table border=\"1\" class=\"dataframe\">\n",
       "  <thead>\n",
       "    <tr style=\"text-align: right;\">\n",
       "      <th></th>\n",
       "      <th>Area</th>\n",
       "      <th>Insight Summary</th>\n",
       "      <th>Recommendation</th>\n",
       "    </tr>\n",
       "  </thead>\n",
       "  <tbody>\n",
       "    <tr>\n",
       "      <th>0</th>\n",
       "      <td>Yearly Trend</td>\n",
       "      <td>EV sales increasing steadily, big jump in rece...</td>\n",
       "      <td>Improve EV infrastructure &amp; readiness</td>\n",
       "    </tr>\n",
       "    <tr>\n",
       "      <th>1</th>\n",
       "      <td>State Rankings</td>\n",
       "      <td>UP, MH, KA lead in EV sales</td>\n",
       "      <td>Learn from high-performing states</td>\n",
       "    </tr>\n",
       "    <tr>\n",
       "      <th>2</th>\n",
       "      <td>Vehicle Type</td>\n",
       "      <td>2W &amp; 3W dominate the market</td>\n",
       "      <td>Focus support on two/three-wheelers</td>\n",
       "    </tr>\n",
       "    <tr>\n",
       "      <th>3</th>\n",
       "      <td>Monthly Pattern</td>\n",
       "      <td>Peaks in March/October suggest seasonality</td>\n",
       "      <td>Align campaigns with high-sales months</td>\n",
       "    </tr>\n",
       "  </tbody>\n",
       "</table>\n",
       "</div>"
      ],
      "text/plain": [
       "               Area                                    Insight Summary  \\\n",
       "0      Yearly Trend  EV sales increasing steadily, big jump in rece...   \n",
       "1    State Rankings                        UP, MH, KA lead in EV sales   \n",
       "2      Vehicle Type                        2W & 3W dominate the market   \n",
       "3   Monthly Pattern         Peaks in March/October suggest seasonality   \n",
       "\n",
       "                           Recommendation  \n",
       "0   Improve EV infrastructure & readiness  \n",
       "1       Learn from high-performing states  \n",
       "2     Focus support on two/three-wheelers  \n",
       "3  Align campaigns with high-sales months  "
      ]
     },
     "execution_count": 3,
     "metadata": {},
     "output_type": "execute_result"
    }
   ],
   "source": [
    "import pandas as pd\n",
    "\n",
    "# Create the summary data as a list of dictionaries\n",
    "data = [\n",
    "    {\n",
    "        \"Area\": \" Yearly Trend\",\n",
    "        \"Insight Summary\": \"EV sales increasing steadily, big jump in recent year\",\n",
    "        \"Recommendation\": \"Improve EV infrastructure & readiness\"\n",
    "    },\n",
    "    {\n",
    "        \"Area\": \" State Rankings\",\n",
    "        \"Insight Summary\": \"UP, MH, KA lead in EV sales\",\n",
    "        \"Recommendation\": \"Learn from high-performing states\"\n",
    "    },\n",
    "    {\n",
    "        \"Area\": \" Vehicle Type\",\n",
    "        \"Insight Summary\": \"2W & 3W dominate the market\",\n",
    "        \"Recommendation\": \"Focus support on two/three-wheelers\"\n",
    "    },\n",
    "    {\n",
    "        \"Area\": \" Monthly Pattern\",\n",
    "        \"Insight Summary\": \"Peaks in March/October suggest seasonality\",\n",
    "        \"Recommendation\": \"Align campaigns with high-sales months\"\n",
    "    }\n",
    "]\n",
    "\n",
    "# Convert to DataFrame and display\n",
    "summary_df = pd.DataFrame(data)\n",
    "summary_df"
   ]
  }
 ],
 "metadata": {
  "kernelspec": {
   "display_name": "Python 3",
   "language": "python",
   "name": "python3"
  },
  "language_info": {
   "codemirror_mode": {
    "name": "ipython",
    "version": 3
   },
   "file_extension": ".py",
   "mimetype": "text/x-python",
   "name": "python",
   "nbconvert_exporter": "python",
   "pygments_lexer": "ipython3",
   "version": "3.12.10"
  }
 },
 "nbformat": 4,
 "nbformat_minor": 5
}
